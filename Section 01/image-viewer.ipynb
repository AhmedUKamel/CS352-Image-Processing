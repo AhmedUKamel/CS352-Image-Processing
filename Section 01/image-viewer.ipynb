{
 "cells": [
  {
   "cell_type": "code",
   "execution_count": null,
   "id": "5c68b9ee",
   "metadata": {
    "ExecuteTime": {
     "end_time": "2022-10-26T22:51:40.711006Z",
     "start_time": "2022-10-26T22:51:40.684794Z"
    }
   },
   "outputs": [],
   "source": [
    "import io\n",
    "import os\n",
    "import PySimpleGUI as sg\n",
    "from PIL import Image"
   ]
  },
  {
   "cell_type": "code",
   "execution_count": null,
   "id": "536466fc",
   "metadata": {
    "ExecuteTime": {
     "end_time": "2022-10-26T22:51:40.718866Z",
     "start_time": "2022-10-26T22:51:40.712503Z"
    }
   },
   "outputs": [],
   "source": [
    "class ImageViewer:\n",
    "    def __init__(self):\n",
    "        self.__window    = None\n",
    "        self.__fileTypes = None\n",
    "        self.__layout    = None\n",
    "    \n",
    "    def setFileTypes(\n",
    "        self,\n",
    "        types:list=[('All files','*.*')]\n",
    "    ):\n",
    "        self.__fileTypes = types\n",
    "    \n",
    "    def __initLayout(self):\n",
    "        self.__layout = [\n",
    "            [sg.Image(key=\"-IMAGE-\")],\n",
    "            [\n",
    "                sg.Text(text=\"Image File\"),\n",
    "                sg.Input(\n",
    "                    size=(25,1),\n",
    "                    key=\"-FILE-\"\n",
    "                ),\n",
    "                sg.FileBrowse(\n",
    "                    file_types=self.__fileTypes,\n",
    "                    button_color='blue'),\n",
    "                sg.Button(\n",
    "                    button_text='Load Image',\n",
    "                    button_color='green'\n",
    "                    ),\n",
    "                sg.Button(\n",
    "                    button_text='Exit',\n",
    "                    button_color='red'\n",
    "                ),\n",
    "            ],\n",
    "        ]\n",
    "        \n",
    "    def __initWindow(self):\n",
    "        self.__initLayout()\n",
    "        self.__window = sg.Window (\n",
    "            title=\"Image Viewer\",\n",
    "            layout=self.__layout\n",
    "        )\n",
    "    \n",
    "    def mainloop(self):\n",
    "        self.__initWindow()\n",
    "        while True:\n",
    "            event,values = self.__window.read()\n",
    "            if event == \"Exit\" or event == sg.WIN_CLOSED:\n",
    "                break\n",
    "            if event == \"Load Image\":\n",
    "                filename = values[\"-FILE-\"]\n",
    "                if os.path.exists(filename):\n",
    "                    image = Image.open(values[\"-FILE-\"])\n",
    "                    image.thumbnail((400, 400))\n",
    "                    bio = io.BytesIO()\n",
    "                    image.save(bio, format=\"PNG\")\n",
    "                    self.__window[\"-IMAGE-\"].update(data=bio.getvalue())\n",
    "        self.__window.close()"
   ]
  },
  {
   "cell_type": "code",
   "execution_count": null,
   "id": "6412cb4c",
   "metadata": {
    "ExecuteTime": {
     "end_time": "2022-10-26T22:53:00.810134Z",
     "start_time": "2022-10-26T22:52:56.331991Z"
    }
   },
   "outputs": [],
   "source": [
    "iv = ImageViewer()\n",
    "iv.setFileTypes(\n",
    "    types=[\n",
    "        ('JPEG','*.jpg'),\n",
    "        ('PNG','*.png'),\n",
    "    ]\n",
    ")\n",
    "iv.mainloop()"
   ]
  }
 ],
 "metadata": {
  "kernelspec": {
   "display_name": "Python 3 (ipykernel)",
   "language": "python",
   "name": "python3"
  },
  "language_info": {
   "codemirror_mode": {
    "name": "ipython",
    "version": 3
   },
   "file_extension": ".py",
   "mimetype": "text/x-python",
   "name": "python",
   "nbconvert_exporter": "python",
   "pygments_lexer": "ipython3",
   "version": "3.9.13"
  }
 },
 "nbformat": 4,
 "nbformat_minor": 5
}
