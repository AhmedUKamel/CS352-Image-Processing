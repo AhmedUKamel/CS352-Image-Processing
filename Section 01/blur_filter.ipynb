{
 "cells": [
  {
   "cell_type": "code",
   "execution_count": null,
   "id": "232a6790",
   "metadata": {
    "ExecuteTime": {
     "end_time": "2022-10-26T15:35:16.877365Z",
     "start_time": "2022-10-26T15:35:16.847455Z"
    }
   },
   "outputs": [],
   "source": [
    "from PIL import Image,ImageFilter"
   ]
  },
  {
   "cell_type": "code",
   "execution_count": null,
   "id": "7d16ebf3",
   "metadata": {
    "ExecuteTime": {
     "end_time": "2022-10-26T15:35:16.895577Z",
     "start_time": "2022-10-26T15:35:16.880298Z"
    }
   },
   "outputs": [],
   "source": [
    "img = Image.open(fp='linux.jpg')"
   ]
  },
  {
   "cell_type": "code",
   "execution_count": null,
   "id": "05ffc41e",
   "metadata": {
    "ExecuteTime": {
     "end_time": "2022-10-26T15:35:16.973835Z",
     "start_time": "2022-10-26T15:35:16.898108Z"
    }
   },
   "outputs": [],
   "source": [
    "img.show()"
   ]
  },
  {
   "cell_type": "code",
   "execution_count": null,
   "id": "d73f0a44",
   "metadata": {
    "ExecuteTime": {
     "end_time": "2022-10-26T15:35:16.984520Z",
     "start_time": "2022-10-26T15:35:16.976383Z"
    }
   },
   "outputs": [],
   "source": [
    "dir(Image)"
   ]
  },
  {
   "cell_type": "code",
   "execution_count": null,
   "id": "d9e450de",
   "metadata": {
    "ExecuteTime": {
     "end_time": "2022-10-26T15:35:17.091832Z",
     "start_time": "2022-10-26T15:35:16.985830Z"
    }
   },
   "outputs": [],
   "source": [
    "help(Image)"
   ]
  },
  {
   "cell_type": "code",
   "execution_count": null,
   "id": "635f04a5",
   "metadata": {
    "ExecuteTime": {
     "end_time": "2022-10-26T15:35:17.097652Z",
     "start_time": "2022-10-26T15:35:17.094534Z"
    }
   },
   "outputs": [],
   "source": [
    "img.size"
   ]
  },
  {
   "cell_type": "code",
   "execution_count": null,
   "id": "e391844e",
   "metadata": {
    "ExecuteTime": {
     "end_time": "2022-10-26T15:35:17.123147Z",
     "start_time": "2022-10-26T15:35:17.100029Z"
    }
   },
   "outputs": [],
   "source": [
    "img.filename"
   ]
  },
  {
   "cell_type": "code",
   "execution_count": null,
   "id": "451e97ac",
   "metadata": {
    "ExecuteTime": {
     "end_time": "2022-10-26T15:35:17.129303Z",
     "start_time": "2022-10-26T15:35:17.125419Z"
    }
   },
   "outputs": [],
   "source": [
    "img.mode"
   ]
  },
  {
   "cell_type": "code",
   "execution_count": null,
   "id": "880a71b1",
   "metadata": {
    "ExecuteTime": {
     "end_time": "2022-10-26T15:35:17.210317Z",
     "start_time": "2022-10-26T15:35:17.131026Z"
    }
   },
   "outputs": [],
   "source": [
    "blured = img.filter(ImageFilter.BLUR)"
   ]
  },
  {
   "cell_type": "code",
   "execution_count": null,
   "id": "151b599e",
   "metadata": {
    "ExecuteTime": {
     "end_time": "2022-10-26T15:35:17.270163Z",
     "start_time": "2022-10-26T15:35:17.213158Z"
    }
   },
   "outputs": [],
   "source": [
    "blured"
   ]
  },
  {
   "cell_type": "code",
   "execution_count": null,
   "id": "72fb9668",
   "metadata": {
    "ExecuteTime": {
     "end_time": "2022-10-26T15:35:17.341013Z",
     "start_time": "2022-10-26T15:35:17.271218Z"
    }
   },
   "outputs": [],
   "source": [
    "blured.save(fp='blured.png')"
   ]
  }
 ],
 "metadata": {
  "kernelspec": {
   "display_name": "Python 3 (ipykernel)",
   "language": "python",
   "name": "python3"
  },
  "language_info": {
   "codemirror_mode": {
    "name": "ipython",
    "version": 3
   },
   "file_extension": ".py",
   "mimetype": "text/x-python",
   "name": "python",
   "nbconvert_exporter": "python",
   "pygments_lexer": "ipython3",
   "version": "3.9.13"
  }
 },
 "nbformat": 4,
 "nbformat_minor": 5
}
